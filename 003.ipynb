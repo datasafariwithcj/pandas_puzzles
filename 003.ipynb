{
 "cells": [
  {
   "cell_type": "markdown",
   "id": "21af109a",
   "metadata": {},
   "source": [
    "Generate 10 random integers in the range 0 to 100.  \n",
    "Create a series containing those numbers’ tens digits. If our series contains 10, 25, 32, we want the series 1, 2, 3.  \n",
    "What if the range were from 0 to 10,000? How would that change your strategy, if at all?  \n",
    "Given a range from 0 to 10,000, what’s the smallest dtype you should use for integers?  \n",
    "Create a new series with 10 floating-point values between 0 and 1,000. Find the numbers whose integer component (i.e., ignoring any fractional part) are even."
   ]
  },
  {
   "cell_type": "code",
   "execution_count": 26,
   "id": "df40cf0e",
   "metadata": {},
   "outputs": [],
   "source": [
    "import numpy as np\n",
    "import pandas as pd"
   ]
  },
  {
   "cell_type": "code",
   "execution_count": 27,
   "id": "aa192e4b",
   "metadata": {},
   "outputs": [
    {
     "data": {
      "text/plain": [
       "array([63, 16, 87, 26, 66, 85, 56,  6, 37, 28], dtype=int32)"
      ]
     },
     "execution_count": 27,
     "metadata": {},
     "output_type": "execute_result"
    }
   ],
   "source": [
    "our_array = np.random.randint(0,110, size= 10)\n",
    "our_array"
   ]
  },
  {
   "cell_type": "code",
   "execution_count": 28,
   "id": "373e7f62",
   "metadata": {},
   "outputs": [
    {
     "data": {
      "text/plain": [
       "0    6\n",
       "1    1\n",
       "2    8\n",
       "3    2\n",
       "4    6\n",
       "5    8\n",
       "6    5\n",
       "7    0\n",
       "8    3\n",
       "9    2\n",
       "dtype: int32"
      ]
     },
     "execution_count": 28,
     "metadata": {},
     "output_type": "execute_result"
    }
   ],
   "source": [
    "pd.Series([i//10 for i in our_array])"
   ]
  },
  {
   "cell_type": "markdown",
   "id": "3f66fdb1",
   "metadata": {},
   "source": [
    "Alternative solution:"
   ]
  },
  {
   "cell_type": "code",
   "execution_count": 29,
   "id": "5aa892f3",
   "metadata": {},
   "outputs": [
    {
     "data": {
      "text/plain": [
       "0    6\n",
       "1    1\n",
       "2    8\n",
       "3    2\n",
       "4    6\n",
       "5    8\n",
       "6    5\n",
       "7    0\n",
       "8    3\n",
       "9    2\n",
       "dtype: int64"
      ]
     },
     "execution_count": 29,
     "metadata": {},
     "output_type": "execute_result"
    }
   ],
   "source": [
    "pd.Series(our_array/10).astype(int)"
   ]
  },
  {
   "cell_type": "markdown",
   "id": "bb9ad20a",
   "metadata": {},
   "source": [
    "What if the range were from 0 to 10,000? How would that change your strategy, if at all?"
   ]
  },
  {
   "cell_type": "markdown",
   "id": "6332f7e4",
   "metadata": {},
   "source": [
    "The code will still remain the same."
   ]
  },
  {
   "cell_type": "markdown",
   "id": "e80e8d22",
   "metadata": {},
   "source": [
    "Given a range from 0 to 10,000, what’s the smallest dtype you should use for integers?"
   ]
  },
  {
   "cell_type": "markdown",
   "id": "ba1bc7e9",
   "metadata": {},
   "source": [
    "The smallest appropriate dtype is int16 as it can store integers from -32768 to 32767."
   ]
  },
  {
   "cell_type": "markdown",
   "id": "1dff14ee",
   "metadata": {},
   "source": [
    "Create a new series with 10 floating-point values between 0 and 1,000. Find the numbers whose integer component (i.e., ignoring any fractional part) are even."
   ]
  },
  {
   "cell_type": "code",
   "execution_count": 31,
   "id": "4046554a",
   "metadata": {},
   "outputs": [
    {
     "data": {
      "text/plain": [
       "array([[855.404797  , 320.3982568 , 208.17936981, 678.89399709,\n",
       "        879.71178522, 312.15330896, 853.30792523, 292.43501152,\n",
       "        709.58034522, 256.63330788]])"
      ]
     },
     "execution_count": 31,
     "metadata": {},
     "output_type": "execute_result"
    }
   ],
   "source": [
    "our_floating_array = np.random.rand(10) * 1000\n",
    "\n",
    "our_floating_point_array"
   ]
  }
 ],
 "metadata": {
  "kernelspec": {
   "display_name": "Python 3",
   "language": "python",
   "name": "python3"
  },
  "language_info": {
   "codemirror_mode": {
    "name": "ipython",
    "version": 3
   },
   "file_extension": ".py",
   "mimetype": "text/x-python",
   "name": "python",
   "nbconvert_exporter": "python",
   "pygments_lexer": "ipython3",
   "version": "3.13.5"
  }
 },
 "nbformat": 4,
 "nbformat_minor": 5
}
