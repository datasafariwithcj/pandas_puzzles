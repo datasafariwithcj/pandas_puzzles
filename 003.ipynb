{
 "cells": [
  {
   "cell_type": "markdown",
   "id": "21af109a",
   "metadata": {},
   "source": [
    "Generate 10 random integers in the range 0 to 100.  \n",
    "Create a series containing those numbers’ tens digits. If our series contains 10, 25, 32, we want the series 1, 2, 3.  \n",
    "What if the range were from 0 to 10,000? How would that change your strategy, if at all?  \n",
    "Given a range from 0 to 10,000, what’s the smallest dtype you should use for integers?  \n",
    "Create a new series with 10 floating-point values between 0 and 1,000. Find the numbers whose integer component (i.e., ignoring any fractional part) are even."
   ]
  },
  {
   "cell_type": "code",
   "execution_count": 1,
   "id": "df40cf0e",
   "metadata": {},
   "outputs": [],
   "source": [
    "import numpy as np\n",
    "import pandas as pd"
   ]
  },
  {
   "cell_type": "code",
   "execution_count": 2,
   "id": "aa192e4b",
   "metadata": {},
   "outputs": [
    {
     "data": {
      "text/plain": [
       "array([26, 39, 34, 43, 71, 70, 92, 22, 73, 33], dtype=int32)"
      ]
     },
     "execution_count": 2,
     "metadata": {},
     "output_type": "execute_result"
    }
   ],
   "source": [
    "our_array = np.random.randint(0,110, size= 10)\n",
    "our_array"
   ]
  },
  {
   "cell_type": "code",
   "execution_count": 3,
   "id": "373e7f62",
   "metadata": {},
   "outputs": [
    {
     "data": {
      "text/plain": [
       "0    2\n",
       "1    3\n",
       "2    3\n",
       "3    4\n",
       "4    7\n",
       "5    7\n",
       "6    9\n",
       "7    2\n",
       "8    7\n",
       "9    3\n",
       "dtype: int32"
      ]
     },
     "execution_count": 3,
     "metadata": {},
     "output_type": "execute_result"
    }
   ],
   "source": [
    "pd.Series([i//10 for i in our_array])"
   ]
  },
  {
   "cell_type": "markdown",
   "id": "3f66fdb1",
   "metadata": {},
   "source": [
    "Alternative solution:"
   ]
  },
  {
   "cell_type": "code",
   "execution_count": 4,
   "id": "5aa892f3",
   "metadata": {},
   "outputs": [
    {
     "data": {
      "text/plain": [
       "0    2\n",
       "1    3\n",
       "2    3\n",
       "3    4\n",
       "4    7\n",
       "5    7\n",
       "6    9\n",
       "7    2\n",
       "8    7\n",
       "9    3\n",
       "dtype: int64"
      ]
     },
     "execution_count": 4,
     "metadata": {},
     "output_type": "execute_result"
    }
   ],
   "source": [
    "pd.Series(our_array/10).astype(int)"
   ]
  },
  {
   "cell_type": "markdown",
   "id": "bb9ad20a",
   "metadata": {},
   "source": [
    "What if the range were from 0 to 10,000? How would that change your strategy, if at all?"
   ]
  },
  {
   "cell_type": "markdown",
   "id": "6332f7e4",
   "metadata": {},
   "source": [
    "The code will still remain the same."
   ]
  },
  {
   "cell_type": "markdown",
   "id": "e80e8d22",
   "metadata": {},
   "source": [
    "Given a range from 0 to 10,000, what’s the smallest dtype you should use for integers?"
   ]
  },
  {
   "cell_type": "markdown",
   "id": "ba1bc7e9",
   "metadata": {},
   "source": [
    "The smallest appropriate dtype is int16 as it can store integers from -32768 to 32767."
   ]
  },
  {
   "cell_type": "markdown",
   "id": "1dff14ee",
   "metadata": {},
   "source": [
    "Create a new series with 10 floating-point values between 0 and 1,000. Find the numbers whose integer component (i.e., ignoring any fractional part) are even."
   ]
  },
  {
   "cell_type": "code",
   "execution_count": 5,
   "id": "4046554a",
   "metadata": {},
   "outputs": [
    {
     "name": "stdout",
     "output_type": "stream",
     "text": [
      "0    712.680500\n",
      "1    585.842896\n",
      "2    433.601771\n",
      "3    936.643038\n",
      "4     98.333222\n",
      "5    966.016004\n",
      "6     10.071117\n",
      "7    980.952220\n",
      "8    886.488536\n",
      "9    344.624593\n",
      "dtype: float64\n",
      "0    712.680500\n",
      "1    936.643038\n",
      "2     98.333222\n",
      "3    966.016004\n",
      "4     10.071117\n",
      "5    980.952220\n",
      "6    886.488536\n",
      "7    344.624593\n",
      "dtype: float64\n"
     ]
    }
   ],
   "source": [
    "our_floating_series = pd.Series(np.random.rand(10) * 1000)\n",
    "\n",
    "answer = []\n",
    "\n",
    "for i in our_floating_series:\n",
    "    if (i // 1) % 2 == 0:\n",
    "        answer.append(i)\n",
    "    else:\n",
    "        pass\n",
    "\n",
    "print(our_floating_series)\n",
    "print(pd.Series(answer))"
   ]
  }
 ],
 "metadata": {
  "kernelspec": {
   "display_name": "Python 3",
   "language": "python",
   "name": "python3"
  },
  "language_info": {
   "codemirror_mode": {
    "name": "ipython",
    "version": 3
   },
   "file_extension": ".py",
   "mimetype": "text/x-python",
   "name": "python",
   "nbconvert_exporter": "python",
   "pygments_lexer": "ipython3",
   "version": "3.13.5"
  }
 },
 "nbformat": 4,
 "nbformat_minor": 5
}
