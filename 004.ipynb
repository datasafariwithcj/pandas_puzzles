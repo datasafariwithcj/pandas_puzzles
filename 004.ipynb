{
 "cells": [
  {
   "cell_type": "markdown",
   "id": "2143ac07",
   "metadata": {},
   "source": [
    "Generate a series of 100,000 floats in a normal distribution with a mean of 0 and a standard deviation of 100.\n",
    "\n",
    "Get the descriptive statistics for this series. How close are the mean and median? (You don’t need to calculate the difference; rather, consider why they aren’t the same.)\n",
    "\n",
    "Replace the minimum value with 5 times the maximum value.\n",
    "\n",
    "Get the descriptive statistics again. Did the mean, median, and standard deviations change from their previous values? (Again, it’s enough to see the difference without calculating it.) If so, why?"
   ]
  },
  {
   "cell_type": "code",
   "execution_count": 1,
   "id": "9ac22f54",
   "metadata": {},
   "outputs": [],
   "source": [
    "import numpy as np\n",
    "import pandas as pd"
   ]
  },
  {
   "cell_type": "code",
   "execution_count": 2,
   "id": "bb57a495",
   "metadata": {},
   "outputs": [
    {
     "data": {
      "application/vnd.microsoft.datawrangler.viewer.v0+json": {
       "columns": [
        {
         "name": "index",
         "rawType": "int64",
         "type": "integer"
        },
        {
         "name": "0",
         "rawType": "float64",
         "type": "float"
        }
       ],
       "ref": "de495f2d-600e-4347-b2b9-8fb7cc122200",
       "rows": [
        [
         "0",
         "-44.916741923304144"
        ],
        [
         "1",
         "-91.88836292584328"
        ],
        [
         "2",
         "-27.22505443566693"
        ],
        [
         "3",
         "-4.128708187565034"
        ],
        [
         "4",
         "25.986616938264724"
        ],
        [
         "5",
         "-225.5349303712586"
        ],
        [
         "6",
         "-54.65012215507898"
        ],
        [
         "7",
         "97.74476446579034"
        ],
        [
         "8",
         "67.13881469167121"
        ],
        [
         "9",
         "9.008867871116182"
        ],
        [
         "10",
         "-76.9080430292691"
        ],
        [
         "11",
         "-146.5159763986732"
        ],
        [
         "12",
         "-45.20598030821349"
        ],
        [
         "13",
         "132.8543091489795"
        ],
        [
         "14",
         "57.19771292048909"
        ],
        [
         "15",
         "-78.64330932137496"
        ],
        [
         "16",
         "-53.12970108033653"
        ],
        [
         "17",
         "108.4774477259237"
        ],
        [
         "18",
         "-94.97653359259999"
        ],
        [
         "19",
         "98.62568910430196"
        ],
        [
         "20",
         "35.07267977079316"
        ],
        [
         "21",
         "67.59743205114968"
        ],
        [
         "22",
         "47.214791954528046"
        ],
        [
         "23",
         "116.7757569182222"
        ],
        [
         "24",
         "-82.03127055613231"
        ],
        [
         "25",
         "115.16730356319411"
        ],
        [
         "26",
         "79.43634167232506"
        ],
        [
         "27",
         "-53.54033117271308"
        ],
        [
         "28",
         "26.897862693038448"
        ],
        [
         "29",
         "84.49502675728374"
        ],
        [
         "30",
         "-144.69652064576564"
        ],
        [
         "31",
         "-12.050597254811242"
        ],
        [
         "32",
         "22.117979934014926"
        ],
        [
         "33",
         "-110.27343729574291"
        ],
        [
         "34",
         "-23.140276752908846"
        ],
        [
         "35",
         "56.30807965391781"
        ],
        [
         "36",
         "-24.429112112378522"
        ],
        [
         "37",
         "88.28082047017162"
        ],
        [
         "38",
         "-33.48952683121503"
        ],
        [
         "39",
         "142.92389947734895"
        ],
        [
         "40",
         "-19.327034808251216"
        ],
        [
         "41",
         "29.62691343065224"
        ],
        [
         "42",
         "-0.21189310867466396"
        ],
        [
         "43",
         "204.92783795521586"
        ],
        [
         "44",
         "-37.88534995176917"
        ],
        [
         "45",
         "-94.90870611632681"
        ],
        [
         "46",
         "23.621363240174503"
        ],
        [
         "47",
         "-24.623816142688476"
        ],
        [
         "48",
         "16.502673068963077"
        ],
        [
         "49",
         "38.991430495198856"
        ]
       ],
       "shape": {
        "columns": 1,
        "rows": 100000
       }
      },
      "text/plain": [
       "0        -44.916742\n",
       "1        -91.888363\n",
       "2        -27.225054\n",
       "3         -4.128708\n",
       "4         25.986617\n",
       "            ...    \n",
       "99995     50.496350\n",
       "99996    -76.775758\n",
       "99997   -178.534603\n",
       "99998   -264.699106\n",
       "99999    -73.932361\n",
       "Length: 100000, dtype: float64"
      ]
     },
     "execution_count": 2,
     "metadata": {},
     "output_type": "execute_result"
    }
   ],
   "source": [
    "our_series = pd.Series(np.random.normal(0, 100, 100000))\n",
    "our_series"
   ]
  },
  {
   "cell_type": "markdown",
   "id": "f99ea93f",
   "metadata": {},
   "source": [
    "Get the descriptive statistics for this series. How close are the mean and median?"
   ]
  },
  {
   "cell_type": "code",
   "execution_count": 3,
   "id": "f480faac",
   "metadata": {},
   "outputs": [
    {
     "data": {
      "application/vnd.microsoft.datawrangler.viewer.v0+json": {
       "columns": [
        {
         "name": "index",
         "rawType": "object",
         "type": "string"
        },
        {
         "name": "0",
         "rawType": "float64",
         "type": "float"
        }
       ],
       "ref": "399df7f6-b770-43ff-b136-ca1d2f7524ac",
       "rows": [
        [
         "count",
         "100000.0"
        ],
        [
         "mean",
         "0.2399180484089623"
        ],
        [
         "std",
         "99.7309672230919"
        ],
        [
         "min",
         "-478.3925965479348"
        ],
        [
         "25%",
         "-66.77107324450793"
        ],
        [
         "50%",
         "0.3987167148011155"
        ],
        [
         "75%",
         "67.48928821327294"
        ],
        [
         "max",
         "442.5456388030177"
        ]
       ],
       "shape": {
        "columns": 1,
        "rows": 8
       }
      },
      "text/plain": [
       "count    100000.000000\n",
       "mean          0.239918\n",
       "std          99.730967\n",
       "min        -478.392597\n",
       "25%         -66.771073\n",
       "50%           0.398717\n",
       "75%          67.489288\n",
       "max         442.545639\n",
       "dtype: float64"
      ]
     },
     "execution_count": 3,
     "metadata": {},
     "output_type": "execute_result"
    }
   ],
   "source": [
    "our_series.describe()"
   ]
  },
  {
   "cell_type": "code",
   "execution_count": 4,
   "id": "ba808b2a",
   "metadata": {},
   "outputs": [
    {
     "data": {
      "text/plain": [
       "0.3987167148011155"
      ]
     },
     "execution_count": 4,
     "metadata": {},
     "output_type": "execute_result"
    }
   ],
   "source": [
    "our_series.median()"
   ]
  },
  {
   "cell_type": "markdown",
   "id": "477d4fed",
   "metadata": {},
   "source": [
    "Replace the minimum value with 5 times the maximum value."
   ]
  },
  {
   "cell_type": "code",
   "execution_count": 5,
   "id": "bb074438",
   "metadata": {},
   "outputs": [],
   "source": [
    "our_series[our_series == our_series.min()] = our_series.max() * 5"
   ]
  },
  {
   "cell_type": "markdown",
   "id": "260b75f5",
   "metadata": {},
   "source": [
    "Get the descriptive statistics again. Did the mean, median, and standard deviations change from their previous values?"
   ]
  },
  {
   "cell_type": "code",
   "execution_count": 6,
   "id": "8f75e1df",
   "metadata": {},
   "outputs": [
    {
     "data": {
      "application/vnd.microsoft.datawrangler.viewer.v0+json": {
       "columns": [
        {
         "name": "index",
         "rawType": "object",
         "type": "string"
        },
        {
         "name": "0",
         "rawType": "float64",
         "type": "float"
        }
       ],
       "ref": "fec6297f-0303-427e-a8e8-9f7d0c0d8e03",
       "rows": [
        [
         "count",
         "100000.0"
        ],
        [
         "mean",
         "0.26682925631459253"
        ],
        [
         "std",
         "99.96462233466373"
        ],
        [
         "min",
         "-434.3501364630714"
        ],
        [
         "25%",
         "-66.76704643550089"
        ],
        [
         "50%",
         "0.4010643089869247"
        ],
        [
         "75%",
         "67.4926109705641"
        ],
        [
         "max",
         "2212.728194015089"
        ]
       ],
       "shape": {
        "columns": 1,
        "rows": 8
       }
      },
      "text/plain": [
       "count    100000.000000\n",
       "mean          0.266829\n",
       "std          99.964622\n",
       "min        -434.350136\n",
       "25%         -66.767046\n",
       "50%           0.401064\n",
       "75%          67.492611\n",
       "max        2212.728194\n",
       "dtype: float64"
      ]
     },
     "execution_count": 6,
     "metadata": {},
     "output_type": "execute_result"
    }
   ],
   "source": [
    "our_series.describe()"
   ]
  },
  {
   "cell_type": "code",
   "execution_count": 7,
   "id": "b1eb3b45",
   "metadata": {},
   "outputs": [
    {
     "data": {
      "text/plain": [
       "0.4010643089869247"
      ]
     },
     "execution_count": 7,
     "metadata": {},
     "output_type": "execute_result"
    }
   ],
   "source": [
    "our_series.median()"
   ]
  },
  {
   "cell_type": "markdown",
   "id": "31d597b0",
   "metadata": {},
   "source": [
    "The median barely shifted. That’s because it tends to be the most stable measurement, even when we have fluctuations at the extremes."
   ]
  },
  {
   "cell_type": "markdown",
   "id": "c9f04e74",
   "metadata": {},
   "source": [
    "Demonstrate that 68%, 95%, and 99.7% of the values in s are indeed within one, two, and three standard distributions of the mean."
   ]
  },
  {
   "cell_type": "code",
   "execution_count": 8,
   "id": "d5fb5684",
   "metadata": {},
   "outputs": [
    {
     "name": "stdout",
     "output_type": "stream",
     "text": [
      "68.49\n",
      "95.491\n",
      "99.703\n"
     ]
    }
   ],
   "source": [
    "# python\n",
    "mean = our_series.mean()\n",
    "std = our_series.std()\n",
    "\n",
    "for k in (1, 2, 3):\n",
    "    print(((our_series - mean).abs() <= k * std).mean() * 100)"
   ]
  },
  {
   "cell_type": "markdown",
   "id": "da8b7316",
   "metadata": {},
   "source": [
    "Calculate the mean of numbers greater than s.mean(). Then calculate the mean of numbers less than s.mean(). Is the average of these two numbers the same as s.mean()?"
   ]
  },
  {
   "cell_type": "code",
   "execution_count": 32,
   "id": "ca0f5176",
   "metadata": {},
   "outputs": [
    {
     "data": {
      "text/plain": [
       "np.False_"
      ]
     },
     "execution_count": 32,
     "metadata": {},
     "output_type": "execute_result"
    }
   ],
   "source": [
    "a_mean = our_series[our_series < our_series.mean()].mean()\n",
    "c_mean = our_series[our_series > our_series.mean()].mean()\n",
    "b_mean = our_series.mean()\n",
    "\n",
    "(a_mean + c_mean)/2 == b_mean"
   ]
  },
  {
   "cell_type": "markdown",
   "id": "e24c70b6",
   "metadata": {},
   "source": [
    "What is the mean of the numbers beyond three standard deviations?"
   ]
  },
  {
   "cell_type": "code",
   "execution_count": 34,
   "id": "f67982a0",
   "metadata": {},
   "outputs": [
    {
     "data": {
      "text/plain": [
       "np.float64(343.253029591812)"
      ]
     },
     "execution_count": 34,
     "metadata": {},
     "output_type": "execute_result"
    }
   ],
   "source": [
    "our_series[our_series > 3*our_series.std()].mean()"
   ]
  }
 ],
 "metadata": {
  "kernelspec": {
   "display_name": "Python 3",
   "language": "python",
   "name": "python3"
  },
  "language_info": {
   "codemirror_mode": {
    "name": "ipython",
    "version": 3
   },
   "file_extension": ".py",
   "mimetype": "text/x-python",
   "name": "python",
   "nbconvert_exporter": "python",
   "pygments_lexer": "ipython3",
   "version": "3.13.5"
  }
 },
 "nbformat": 4,
 "nbformat_minor": 5
}
