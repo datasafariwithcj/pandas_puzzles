{
 "cells": [
  {
   "cell_type": "markdown",
   "id": "84562d8a",
   "metadata": {},
   "source": [
    "Generate 10 test scores between 40 and 60, again using an index starting with September and ending with June. \n",
    "\n",
    "Find the mean of the scores and add the difference between the mean and 80 to each of the scores.\n",
    "\n",
    "Anyone who scored within one standard deviation of the mean got a C (below the mean) or a B (above the mean). Anyone who scored more than one standard deviation above the mean got an A, and anyone who got more than one standard deviation below the mean got a D. During which months did our student get an A, B, C, and D?\n",
    "\n",
    "Were there any test scores more than two standard deviations above or below the mean? If so, in which months?"
   ]
  },
  {
   "cell_type": "code",
   "execution_count": 149,
   "id": "de7a8c08",
   "metadata": {},
   "outputs": [],
   "source": [
    "import pandas as pd\n",
    "import numpy as np"
   ]
  },
  {
   "cell_type": "code",
   "execution_count": 150,
   "id": "892640c3",
   "metadata": {},
   "outputs": [
    {
     "data": {
      "text/plain": [
       "June         50\n",
       "July         41\n",
       "August       60\n",
       "September    52\n",
       "October      47\n",
       "November     47\n",
       "December     55\n",
       "January      41\n",
       "February     46\n",
       "March        47\n",
       "dtype: int32"
      ]
     },
     "execution_count": 150,
     "metadata": {},
     "output_type": "execute_result"
    }
   ],
   "source": [
    "marks = np.random.randint(40,61, size=10)\n",
    "monthly_marks = pd.Series(data=marks, index= [\"June\", \"July\", \"August\", \"September\", \"October\", \"November\", \"December\", \"January\", \"February\", \"March\"])\n",
    "monthly_marks"
   ]
  },
  {
   "cell_type": "code",
   "execution_count": 151,
   "id": "43a089bf",
   "metadata": {},
   "outputs": [
    {
     "data": {
      "text/plain": [
       "June         81.4\n",
       "July         72.4\n",
       "August       91.4\n",
       "September    83.4\n",
       "October      78.4\n",
       "November     78.4\n",
       "December     86.4\n",
       "January      72.4\n",
       "February     77.4\n",
       "March        78.4\n",
       "dtype: float64"
      ]
     },
     "execution_count": 151,
     "metadata": {},
     "output_type": "execute_result"
    }
   ],
   "source": [
    "average_marks = monthly_marks.mean()\n",
    "grace_marks = 80 - average_marks\n",
    "\n",
    "monthly_result = monthly_marks + grace_marks\n",
    "monthly_result"
   ]
  },
  {
   "cell_type": "markdown",
   "id": "25049c8c",
   "metadata": {},
   "source": [
    "Anyone who scored within one standard deviation of the mean got a C (below the mean) or a B (above the mean). Anyone who scored more than one standard deviation above the mean got an A, and anyone who got more than one standard deviation below the mean got a D. During which months did our student get an A, B, C, and D?"
   ]
  },
  {
   "cell_type": "code",
   "execution_count": 152,
   "id": "751f61a1",
   "metadata": {},
   "outputs": [
    {
     "data": {
      "text/plain": [
       "5.910442735813734"
      ]
     },
     "execution_count": 152,
     "metadata": {},
     "output_type": "execute_result"
    }
   ],
   "source": [
    "standard_deviation = monthly_marks.std()\n",
    "standard_deviation"
   ]
  },
  {
   "cell_type": "code",
   "execution_count": 155,
   "id": "f35ecb0f",
   "metadata": {},
   "outputs": [
    {
     "data": {
      "text/plain": [
       "June         C\n",
       "July         D\n",
       "August       B\n",
       "September    C\n",
       "October      C\n",
       "November     C\n",
       "December     B\n",
       "January      D\n",
       "February     C\n",
       "March        C\n",
       "dtype: object"
      ]
     },
     "execution_count": 155,
     "metadata": {},
     "output_type": "execute_result"
    }
   ],
   "source": [
    "def grade(x):\n",
    "    if x >= average_marks + (2 * standard_deviation):\n",
    "        return 'A'\n",
    "    elif x >= average_marks + standard_deviation:\n",
    "        return 'B'\n",
    "    elif x >= average_marks - standard_deviation:\n",
    "        return 'C'\n",
    "    else:\n",
    "        return 'D'\n",
    "    \n",
    "monthly_grades = monthly_marks.apply(grade)\n",
    "\n",
    "monthly_grades"
   ]
  },
  {
   "cell_type": "markdown",
   "id": "526f1d8f",
   "metadata": {},
   "source": [
    "Were there any test scores more than two standard deviations above or below the mean? If so, in which months?"
   ]
  },
  {
   "cell_type": "code",
   "execution_count": 165,
   "id": "a92f9b82",
   "metadata": {},
   "outputs": [
    {
     "data": {
      "text/plain": [
       "July       D\n",
       "January    D\n",
       "dtype: object"
      ]
     },
     "execution_count": 165,
     "metadata": {},
     "output_type": "execute_result"
    }
   ],
   "source": [
    "monthly_grades[monthly_grades.isin(['A','D'])]"
   ]
  },
  {
   "cell_type": "markdown",
   "id": "06d8cc11",
   "metadata": {},
   "source": [
    "How close are the mean and median to each another? What does it mean if they are close? What would it mean if they were far apart?"
   ]
  },
  {
   "cell_type": "code",
   "execution_count": 166,
   "id": "0645fafb",
   "metadata": {},
   "outputs": [
    {
     "data": {
      "text/plain": [
       "np.float64(48.6)"
      ]
     },
     "execution_count": 166,
     "metadata": {},
     "output_type": "execute_result"
    }
   ],
   "source": [
    "monthly_marks.mean()"
   ]
  },
  {
   "cell_type": "code",
   "execution_count": 167,
   "id": "d7acf1dd",
   "metadata": {},
   "outputs": [
    {
     "data": {
      "text/plain": [
       "47.0"
      ]
     },
     "execution_count": 167,
     "metadata": {},
     "output_type": "execute_result"
    }
   ],
   "source": [
    "monthly_marks.median()"
   ]
  },
  {
   "cell_type": "markdown",
   "id": "8f3beb63",
   "metadata": {},
   "source": [
    "If the difference between mean and median is high, it implies that the data distribution is scewed."
   ]
  }
 ],
 "metadata": {
  "kernelspec": {
   "display_name": "Python 3",
   "language": "python",
   "name": "python3"
  },
  "language_info": {
   "codemirror_mode": {
    "name": "ipython",
    "version": 3
   },
   "file_extension": ".py",
   "mimetype": "text/x-python",
   "name": "python",
   "nbconvert_exporter": "python",
   "pygments_lexer": "ipython3",
   "version": "3.13.5"
  }
 },
 "nbformat": 4,
 "nbformat_minor": 5
}
