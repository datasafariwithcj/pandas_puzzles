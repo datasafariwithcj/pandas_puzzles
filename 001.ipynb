{
 "cells": [
  {
   "cell_type": "markdown",
   "id": "65a8354d",
   "metadata": {},
   "source": [
    "Create a series of 10 elements, random integers from 70 to 100, representing scores on a monthly exam. Set the index to be the month names, starting in April and ending in March.\n",
    "\n",
    "What is the student’s average test score for the entire year?  \n",
    "What is the student’s average test score during the first half of the year (i.e., the first five months)?  \n",
    "What is the student’s average test score during the second half of the year?  \n",
    "Did the student improve their performance in the second half? If so, by how much?  \n",
    "In which month did this student get their highest score?  \n",
    "What were this student’s five highest scores?  \n",
    "Round the student’s scores to the nearest 10."
   ]
  },
  {
   "cell_type": "code",
   "execution_count": 66,
   "id": "038699d6",
   "metadata": {},
   "outputs": [],
   "source": [
    "import numpy as np\n",
    "import pandas as pd"
   ]
  },
  {
   "cell_type": "code",
   "execution_count": 67,
   "id": "e78515ab",
   "metadata": {},
   "outputs": [
    {
     "data": {
      "text/plain": [
       "June         88\n",
       "July         99\n",
       "August       74\n",
       "September    75\n",
       "October      92\n",
       "November     82\n",
       "December     77\n",
       "January      73\n",
       "February     72\n",
       "March        98\n",
       "dtype: int32"
      ]
     },
     "execution_count": 67,
     "metadata": {},
     "output_type": "execute_result"
    }
   ],
   "source": [
    "marks = np.random.randint(70, 101, size=10)\n",
    "monthly_marks = pd.Series(data=marks, index= ['June', 'July', 'August', 'September', 'October', 'November', 'December', 'January', 'February', 'March'])\n",
    "monthly_marks.head(10)"
   ]
  },
  {
   "cell_type": "markdown",
   "id": "d8e2d45a",
   "metadata": {},
   "source": [
    "What is the student’s average test score for the entire year?"
   ]
  },
  {
   "cell_type": "code",
   "execution_count": 68,
   "id": "85daf89f",
   "metadata": {},
   "outputs": [
    {
     "data": {
      "text/plain": [
       "np.float64(83.0)"
      ]
     },
     "execution_count": 68,
     "metadata": {},
     "output_type": "execute_result"
    }
   ],
   "source": [
    "monthly_marks.mean()"
   ]
  },
  {
   "cell_type": "markdown",
   "id": "77a6d8db",
   "metadata": {},
   "source": [
    "What is the student’s average test score during the first half of the year (i.e., the first five months)?"
   ]
  },
  {
   "cell_type": "code",
   "execution_count": 69,
   "id": "fb838df7",
   "metadata": {},
   "outputs": [
    {
     "name": "stdout",
     "output_type": "stream",
     "text": [
      "85.6\n"
     ]
    }
   ],
   "source": [
    "months_in_first_half_year = len(monthly_marks) // 2 #Floor division is needed because float cannot be used to slice the Series.\n",
    "first_term = monthly_marks.iloc[0:months_in_first_half_year].mean()\n",
    "print(first_term)"
   ]
  },
  {
   "cell_type": "markdown",
   "id": "4acfad5b",
   "metadata": {},
   "source": [
    "Alternative solution:"
   ]
  },
  {
   "cell_type": "code",
   "execution_count": 70,
   "id": "e8fc52f5",
   "metadata": {},
   "outputs": [
    {
     "name": "stdout",
     "output_type": "stream",
     "text": [
      "85.6\n"
     ]
    }
   ],
   "source": [
    "first_term = monthly_marks.loc['June':'October'].mean() #.loc accessor includes both the endpoints.\n",
    "print(first_term)"
   ]
  },
  {
   "cell_type": "markdown",
   "id": "0c98460f",
   "metadata": {},
   "source": [
    "Alternative solution:"
   ]
  },
  {
   "cell_type": "code",
   "execution_count": 71,
   "id": "c3506514",
   "metadata": {},
   "outputs": [
    {
     "name": "stdout",
     "output_type": "stream",
     "text": [
      "85.6\n"
     ]
    }
   ],
   "source": [
    "first_term = monthly_marks.head(n= len(monthly_marks) // 2).mean()\n",
    "print(first_term)"
   ]
  },
  {
   "cell_type": "markdown",
   "id": "8535963f",
   "metadata": {},
   "source": [
    "What is the student’s average test score during the second half of the year?"
   ]
  },
  {
   "cell_type": "code",
   "execution_count": 72,
   "id": "b9f6ef1b",
   "metadata": {},
   "outputs": [
    {
     "name": "stdout",
     "output_type": "stream",
     "text": [
      "80.4\n"
     ]
    }
   ],
   "source": [
    "months_in_second_half_year = len(monthly_marks) // 2\n",
    "second_term = monthly_marks.iloc[months_in_second_half_year:].mean()\n",
    "print(second_term)"
   ]
  },
  {
   "cell_type": "markdown",
   "id": "7a559f3e",
   "metadata": {},
   "source": [
    "Alternative solution:"
   ]
  },
  {
   "cell_type": "code",
   "execution_count": 73,
   "id": "20e74ab6",
   "metadata": {},
   "outputs": [
    {
     "name": "stdout",
     "output_type": "stream",
     "text": [
      "80.4\n"
     ]
    }
   ],
   "source": [
    "second_term = monthly_marks.loc['November':'March'].mean()\n",
    "print(second_term)"
   ]
  },
  {
   "cell_type": "markdown",
   "id": "c4145552",
   "metadata": {},
   "source": [
    "Alternative solution:"
   ]
  },
  {
   "cell_type": "code",
   "execution_count": 74,
   "id": "59faf824",
   "metadata": {},
   "outputs": [
    {
     "name": "stdout",
     "output_type": "stream",
     "text": [
      "80.4\n"
     ]
    }
   ],
   "source": [
    "second_term = monthly_marks.tail(n= len(monthly_marks) // 2).mean()\n",
    "print(second_term)"
   ]
  },
  {
   "cell_type": "markdown",
   "id": "335b161d",
   "metadata": {},
   "source": [
    "Did the student improve their performance in the second half? If so, by how much?"
   ]
  },
  {
   "cell_type": "code",
   "execution_count": 75,
   "id": "75816f70",
   "metadata": {},
   "outputs": [
    {
     "name": "stdout",
     "output_type": "stream",
     "text": [
      "No, there is no improvement in the results.\n"
     ]
    }
   ],
   "source": [
    "if second_term > first_term:\n",
    "    print(f'Yes, the results have improved by {second_term - first_term} %')\n",
    "else:\n",
    "    print('No, there is no improvement in the results.')"
   ]
  },
  {
   "cell_type": "markdown",
   "id": "f498cf70",
   "metadata": {},
   "source": [
    "In which month did this student get their highest score?"
   ]
  },
  {
   "cell_type": "code",
   "execution_count": 76,
   "id": "dfa255ea",
   "metadata": {},
   "outputs": [
    {
     "data": {
      "text/plain": [
       "'July'"
      ]
     },
     "execution_count": 76,
     "metadata": {},
     "output_type": "execute_result"
    }
   ],
   "source": [
    "monthly_marks.idxmax()"
   ]
  },
  {
   "cell_type": "markdown",
   "id": "48a5df24",
   "metadata": {},
   "source": [
    "What were this student’s five highest scores?"
   ]
  },
  {
   "cell_type": "code",
   "execution_count": 77,
   "id": "c69c4fe7",
   "metadata": {},
   "outputs": [
    {
     "data": {
      "text/plain": [
       "July        99\n",
       "March       98\n",
       "October     92\n",
       "June        88\n",
       "November    82\n",
       "dtype: int32"
      ]
     },
     "execution_count": 77,
     "metadata": {},
     "output_type": "execute_result"
    }
   ],
   "source": [
    "monthly_marks.nlargest(n=5)"
   ]
  },
  {
   "cell_type": "markdown",
   "id": "7398a42d",
   "metadata": {},
   "source": [
    "Round the student’s scores to the nearest 10."
   ]
  },
  {
   "cell_type": "code",
   "execution_count": 78,
   "id": "b0f5b0a4",
   "metadata": {},
   "outputs": [
    {
     "data": {
      "text/plain": [
       "June          90\n",
       "July         100\n",
       "August        70\n",
       "September     80\n",
       "October       90\n",
       "November      80\n",
       "December      80\n",
       "January       70\n",
       "February      70\n",
       "March        100\n",
       "dtype: int32"
      ]
     },
     "execution_count": 78,
     "metadata": {},
     "output_type": "execute_result"
    }
   ],
   "source": [
    "monthly_marks.round(-1)"
   ]
  }
 ],
 "metadata": {
  "kernelspec": {
   "display_name": "Python 3",
   "language": "python",
   "name": "python3"
  },
  "language_info": {
   "codemirror_mode": {
    "name": "ipython",
    "version": 3
   },
   "file_extension": ".py",
   "mimetype": "text/x-python",
   "name": "python",
   "nbconvert_exporter": "python",
   "pygments_lexer": "ipython3",
   "version": "3.13.5"
  }
 },
 "nbformat": 4,
 "nbformat_minor": 5
}
